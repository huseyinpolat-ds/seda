{
 "cells": [
  {
   "cell_type": "code",
   "execution_count": 1,
   "id": "eae71e2e",
   "metadata": {},
   "outputs": [
    {
     "name": "stderr",
     "output_type": "stream",
     "text": [
      "Loading required package: Rcpp\n",
      "\n",
      "Warning message:\n",
      "\"package 'Rcpp' was built under R version 4.0.5\"\n",
      "Loading required package: psych\n",
      "\n",
      "Warning message:\n",
      "\"package 'psych' was built under R version 4.0.5\"\n",
      "Loading required package: exactRankTests\n",
      "\n",
      "Warning message:\n",
      "\"package 'exactRankTests' was built under R version 4.0.5\"\n",
      " Package 'exactRankTests' is no longer under development.\n",
      " Please consider using package 'coin' instead.\n",
      "\n",
      "\n",
      "Loading required package: DescTools\n",
      "\n",
      "Warning message:\n",
      "\"package 'DescTools' was built under R version 4.0.5\"\n",
      "\n",
      "Attaching package: 'DescTools'\n",
      "\n",
      "\n",
      "The following objects are masked from 'package:psych':\n",
      "\n",
      "    AUC, ICC, SD\n",
      "\n",
      "\n",
      "Loading required package: normtest\n",
      "\n",
      "Loading required package: lattice\n",
      "\n",
      "Loading required package: RVAideMemoire\n",
      "\n",
      "Warning message:\n",
      "\"package 'RVAideMemoire' was built under R version 4.0.5\"\n",
      "*** Package RVAideMemoire v 0.9-80 ***\n",
      "\n",
      "Loading required package: FSA\n",
      "\n",
      "Warning message:\n",
      "\"package 'FSA' was built under R version 4.0.5\"\n",
      "## FSA v0.9.1. See citation('FSA') if used in publication.\n",
      "## Run fishR() for related website and fishR('IFAR') for related book.\n",
      "\n",
      "\n",
      "Attaching package: 'FSA'\n",
      "\n",
      "\n",
      "The following object is masked from 'package:RVAideMemoire':\n",
      "\n",
      "    se\n",
      "\n",
      "\n",
      "The following object is masked from 'package:psych':\n",
      "\n",
      "    headtail\n",
      "\n",
      "\n",
      "Loading required package: ggplot2\n",
      "\n",
      "Warning message:\n",
      "\"package 'ggplot2' was built under R version 4.0.5\"\n",
      "\n",
      "Attaching package: 'ggplot2'\n",
      "\n",
      "\n",
      "The following objects are masked from 'package:psych':\n",
      "\n",
      "    %+%, alpha\n",
      "\n",
      "\n",
      "Loading required package: car\n",
      "\n",
      "Warning message:\n",
      "\"package 'car' was built under R version 4.0.5\"\n",
      "Loading required package: carData\n",
      "\n",
      "Registered S3 methods overwritten by 'car':\n",
      "  method       from\n",
      "  hist.boot    FSA \n",
      "  confint.boot FSA \n",
      "\n",
      "\n",
      "Attaching package: 'car'\n",
      "\n",
      "\n",
      "The following object is masked from 'package:FSA':\n",
      "\n",
      "    bootCase\n",
      "\n",
      "\n",
      "The following object is masked from 'package:DescTools':\n",
      "\n",
      "    Recode\n",
      "\n",
      "\n",
      "The following object is masked from 'package:psych':\n",
      "\n",
      "    logit\n",
      "\n",
      "\n",
      "Loading required package: lsmeans\n",
      "\n",
      "Warning message:\n",
      "\"package 'lsmeans' was built under R version 4.0.5\"\n",
      "Loading required package: emmeans\n",
      "\n",
      "Warning message:\n",
      "\"package 'emmeans' was built under R version 4.0.5\"\n",
      "The 'lsmeans' package is now basically a front end for 'emmeans'.\n",
      "Users are encouraged to switch the rest of the way.\n",
      "See help('transition') for more information, including how to\n",
      "convert old 'lsmeans' objects and scripts to work with 'emmeans'.\n",
      "\n",
      "Loading required package: dunn.test\n",
      "\n",
      "\n",
      "Attaching package: 'dunn.test'\n",
      "\n",
      "\n",
      "The following object is masked from 'package:RVAideMemoire':\n",
      "\n",
      "    dunn.test\n",
      "\n",
      "\n",
      "Loading required package: conover.test\n",
      "\n",
      "Loading required package: lme4\n",
      "\n",
      "Warning message:\n",
      "\"package 'lme4' was built under R version 4.0.5\"\n",
      "Loading required package: Matrix\n",
      "\n",
      "\n",
      "Attaching package: 'lme4'\n",
      "\n",
      "\n",
      "The following object is masked from 'package:RVAideMemoire':\n",
      "\n",
      "    dummy\n",
      "\n",
      "\n",
      "Loading required package: lmerTest\n",
      "\n",
      "Warning message:\n",
      "\"package 'lmerTest' was built under R version 4.0.5\"\n",
      "\n",
      "Attaching package: 'lmerTest'\n",
      "\n",
      "\n",
      "The following object is masked from 'package:lme4':\n",
      "\n",
      "    lmer\n",
      "\n",
      "\n",
      "The following object is masked from 'package:stats':\n",
      "\n",
      "    step\n",
      "\n",
      "\n",
      "Loading required package: multcompView\n",
      "\n",
      "Warning message:\n",
      "\"package 'multcompView' was built under R version 4.0.5\"\n",
      "Loading required package: multcomp\n",
      "\n",
      "Warning message:\n",
      "\"package 'multcomp' was built under R version 4.0.5\"\n",
      "Loading required package: mvtnorm\n",
      "\n",
      "Warning message:\n",
      "\"package 'mvtnorm' was built under R version 4.0.5\"\n",
      "Loading required package: survival\n",
      "\n",
      "Loading required package: TH.data\n",
      "\n",
      "Warning message:\n",
      "\"package 'TH.data' was built under R version 4.0.5\"\n",
      "Loading required package: MASS\n",
      "\n",
      "\n",
      "Attaching package: 'TH.data'\n",
      "\n",
      "\n",
      "The following object is masked from 'package:MASS':\n",
      "\n",
      "    geyser\n",
      "\n",
      "\n",
      "Loading required package: phia\n",
      "\n",
      "Warning message:\n",
      "\"package 'phia' was built under R version 4.0.5\"\n",
      "Loading required package: nlme\n",
      "\n",
      "\n",
      "Attaching package: 'nlme'\n",
      "\n",
      "\n",
      "The following object is masked from 'package:lme4':\n",
      "\n",
      "    lmList\n",
      "\n",
      "\n",
      "Loading required package: AICcmodavg\n",
      "\n",
      "Warning message:\n",
      "\"package 'AICcmodavg' was built under R version 4.0.5\"\n",
      "\n",
      "Attaching package: 'AICcmodavg'\n",
      "\n",
      "\n",
      "The following object is masked from 'package:lme4':\n",
      "\n",
      "    checkConv\n",
      "\n",
      "\n"
     ]
    }
   ],
   "source": [
    "###################################################################\n",
    "#           Statistics and Explaratoroty Data Analysis            #\n",
    "#                        Laboratory 7                             #\n",
    "#                     ANOVA & related                             #\n",
    "###################################################################\n",
    "\n",
    "if(!require(Rcpp)){install.packages(\"Rcpp\")}\n",
    "library(Rcpp) # rcompanion - R / C++ interface\n",
    "#?Rcpp\n",
    "\n",
    "# if(!require(rcompanion)){install.packages(\"rcompanion\")}\n",
    "# library(rcompanion) # plotNormalHistogram(x), groupWiseMean(x)\n",
    "# # ?`rcompanion-package`\n",
    "\n",
    "if(!require(psych)){install.packages(\"psych\")}\n",
    "library(psych) #describe()\n",
    "# ?psych\n",
    "\n",
    "\n",
    "if(!require(exactRankTests)){install.packages(\"exactRankTests\")}\n",
    "library(exactRankTests) #Ansari-Bradley and Wilcoxon exact test with ties\n",
    "\n",
    "if(!require(DescTools)){install.packages(\"DescTools\")}\n",
    "library(DescTools) #sign test, gtest\n",
    "\n",
    "\n",
    "if(!require(normtest)){install.packages(\"normtest\")}\n",
    "library(normtest) #jb.norm.test & others\n",
    "\n",
    "if(!require(lattice)){install.packages(\"lattice\")}\n",
    "library(lattice) #drawings tunning\n",
    "\n",
    "if(!require(RVAideMemoire)){install.packages(\"RVAideMemoire\")}\n",
    "library(RVAideMemoire) #mood.medtest\n",
    "\n",
    "if(!require(FSA)){install.packages(\"FSA\")}\n",
    "library(FSA) #Summarize\n",
    "\n",
    "if(!require(ggplot2)){install.packages(\"ggplot2\")}\n",
    "library(ggplot2) #drawings tuning\n",
    "\n",
    "\n",
    "#ANOVA\n",
    "\n",
    "if(!require(car)){install.packages(\"car\")}\n",
    "library(car) #Anova\n",
    "\n",
    "if(!require(lsmeans)){install.packages(\"lsmeans\")}\n",
    "library(lsmeans) #lsmeans, cld\n",
    "\n",
    "#KRUSKAL - WALLIS\n",
    "\n",
    "if(!require(dunn.test)){install.packages(\"dunn.test\")}\n",
    "library(dunn.test) #dunn.test\n",
    "\n",
    "if(!require(conover.test)){install.packages(\"conover.test\")}\n",
    "library(conover.test) #conover.test\n",
    "\n",
    "\n",
    "\n",
    "\n",
    " \n",
    "### Mixed models\n",
    "\n",
    "if(!require(lme4)){install.packages(\"lme4\")}\n",
    "library(lme4)\n",
    "\n",
    "if(!require(lmerTest)){install.packages(\"lmerTest\")}\n",
    "library(lmerTest) #anova after lmer\n",
    "\n",
    "if(!require(multcompView)){install.packages(\"multcompView\")}\n",
    "library(multcompView) #multcompLetters\n",
    "\n",
    "if(!require(multcomp)){install.packages(\"multcomp\")}\n",
    "library(multcomp) #multcompLetters\n",
    "\n",
    "if(!require(phia)){install.packages(\"phia\")}\n",
    "library(phia) #plots of interactions\n",
    "?phia\n",
    "\n",
    "\n",
    "if(!require(nlme)){install.packages(\"nlme\")}\n",
    "library(nlme)\n",
    "\n",
    "if(!require(AICcmodavg)){install.packages(\"AICcmodavg\")}\n",
    "library(AICcmodavg)\n",
    "\n",
    "\n",
    "#Set English in R\n",
    "Sys.setenv(LANG = \"en\")\n",
    "\n",
    "options(scipen=999) #avoiding e10 notation\n"
   ]
  },
  {
   "cell_type": "code",
   "execution_count": 2,
   "id": "bb04d310",
   "metadata": {},
   "outputs": [],
   "source": [
    "####################################\n",
    "\n",
    "\n",
    "# ONE-WAY ANOVA\n",
    "\n",
    "\n",
    "####################################\n",
    "\n",
    "Input <- (\"\n",
    "Year       Student  Wrkday\n",
    "          '1st year'  a        1200\n",
    "          '1st year'  b        1400\n",
    "          '1st year'  c        1350\n",
    "          '1st year'  d         950\n",
    "          '1st year'  e        1400\n",
    "          '1st year'  f        1150\n",
    "          '1st year'  g        1300\n",
    "          '1st year'  h        1325\n",
    "          '1st year'  i        1425\n",
    "          '1st year'  j        1500\n",
    "          '1st year'  k        1250\n",
    "          '1st year'  l        1150\n",
    "          '1st year'  m         950\n",
    "          '1st year'  n        1150\n",
    "          '1st year'  o        1600\n",
    "          '1st year'  p        1300\n",
    "          '1st year'  q        1050\n",
    "          '1st year'  r        1300\n",
    "          '1st year'  s        1700\n",
    "          '1st year'  t        1300\n",
    "          '2nd year'  u        1100\n",
    "          '2nd year'  v        1200\n",
    "          '2nd year'  w        1250\n",
    "          '2nd year'  x        1050\n",
    "          '2nd year'  y        1200\n",
    "          '2nd year'  z        1250\n",
    "          '2nd year'  aa       1350\n",
    "          '2nd year'  ab       1350\n",
    "          '2nd year'  ac       1325\n",
    "          '2nd year'  ad       1525\n",
    "          '2nd year'  ae       1225\n",
    "          '2nd year'  af       1125\n",
    "          '2nd year'  ag       1000\n",
    "          '2nd year'  ah       1125\n",
    "          '2nd year'  ai       1400\n",
    "          '2nd year'  aj       1200\n",
    "          '2nd year'  ak       1150\n",
    "          '2nd year'  al       1400\n",
    "          '2nd year'  am       1500\n",
    "          '2nd year'  an       1200\n",
    "          '3rd year'  u        1600\n",
    "          '3rd year'  v        1700\n",
    "          '3rd year'  w        1450\n",
    "          '3rd year'  x        1650\n",
    "          '3rd year'  y        1800\n",
    "          '3rd year'  z        1550\n",
    "          '3rd year'  aa       1950\n",
    "          '3rd year'  ab       1750\n",
    "          '3rd year'  ac       1925\n",
    "          '3rd year'  ad       1825\n",
    "          '3rd year'  ae       1625\n",
    "          '3rd year'  af       1525\n",
    "          '3rd year'  ag       1800\n",
    "          '3rd year'  ah       1725\n",
    "          '3rd year'  ai       1200\n",
    "          '3rd year'  aj       1600\n",
    "          '3rd year'  ak       1950\n",
    "          '3rd year'  al       1100\n",
    "          '3rd year'  am       1400\n",
    "          '3rd year'  an       1600\n",
    "          \")\n",
    "\n",
    "\n",
    "Data <- read.table(textConnection(Input),header=TRUE)"
   ]
  },
  {
   "cell_type": "code",
   "execution_count": 3,
   "id": "e4c6c07c",
   "metadata": {},
   "outputs": [
    {
     "data": {
      "text/html": [
       "<table class=\"dataframe\">\n",
       "<caption>A data.frame: 6 × 3</caption>\n",
       "<thead>\n",
       "\t<tr><th></th><th scope=col>Year</th><th scope=col>Student</th><th scope=col>Wrkday</th></tr>\n",
       "\t<tr><th></th><th scope=col>&lt;chr&gt;</th><th scope=col>&lt;chr&gt;</th><th scope=col>&lt;int&gt;</th></tr>\n",
       "</thead>\n",
       "<tbody>\n",
       "\t<tr><th scope=row>1</th><td>1st year</td><td>a</td><td>1200</td></tr>\n",
       "\t<tr><th scope=row>2</th><td>1st year</td><td>b</td><td>1400</td></tr>\n",
       "\t<tr><th scope=row>3</th><td>1st year</td><td>c</td><td>1350</td></tr>\n",
       "\t<tr><th scope=row>4</th><td>1st year</td><td>d</td><td> 950</td></tr>\n",
       "\t<tr><th scope=row>5</th><td>1st year</td><td>e</td><td>1400</td></tr>\n",
       "\t<tr><th scope=row>6</th><td>1st year</td><td>f</td><td>1150</td></tr>\n",
       "</tbody>\n",
       "</table>\n"
      ],
      "text/latex": [
       "A data.frame: 6 × 3\n",
       "\\begin{tabular}{r|lll}\n",
       "  & Year & Student & Wrkday\\\\\n",
       "  & <chr> & <chr> & <int>\\\\\n",
       "\\hline\n",
       "\t1 & 1st year & a & 1200\\\\\n",
       "\t2 & 1st year & b & 1400\\\\\n",
       "\t3 & 1st year & c & 1350\\\\\n",
       "\t4 & 1st year & d &  950\\\\\n",
       "\t5 & 1st year & e & 1400\\\\\n",
       "\t6 & 1st year & f & 1150\\\\\n",
       "\\end{tabular}\n"
      ],
      "text/markdown": [
       "\n",
       "A data.frame: 6 × 3\n",
       "\n",
       "| <!--/--> | Year &lt;chr&gt; | Student &lt;chr&gt; | Wrkday &lt;int&gt; |\n",
       "|---|---|---|---|\n",
       "| 1 | 1st year | a | 1200 |\n",
       "| 2 | 1st year | b | 1400 |\n",
       "| 3 | 1st year | c | 1350 |\n",
       "| 4 | 1st year | d |  950 |\n",
       "| 5 | 1st year | e | 1400 |\n",
       "| 6 | 1st year | f | 1150 |\n",
       "\n"
      ],
      "text/plain": [
       "  Year     Student Wrkday\n",
       "1 1st year a       1200  \n",
       "2 1st year b       1400  \n",
       "3 1st year c       1350  \n",
       "4 1st year d        950  \n",
       "5 1st year e       1400  \n",
       "6 1st year f       1150  "
      ]
     },
     "metadata": {},
     "output_type": "display_data"
    }
   ],
   "source": [
    "head(Data)"
   ]
  },
  {
   "cell_type": "code",
   "execution_count": 4,
   "id": "ccb8280b",
   "metadata": {},
   "outputs": [
    {
     "data": {
      "text/html": [
       "<table class=\"dataframe\">\n",
       "<caption>A data.frame: 3 × 9</caption>\n",
       "<thead>\n",
       "\t<tr><th scope=col>Year</th><th scope=col>n</th><th scope=col>mean</th><th scope=col>sd</th><th scope=col>min</th><th scope=col>Q1</th><th scope=col>median</th><th scope=col>Q3</th><th scope=col>max</th></tr>\n",
       "\t<tr><th scope=col>&lt;chr&gt;</th><th scope=col>&lt;dbl&gt;</th><th scope=col>&lt;dbl&gt;</th><th scope=col>&lt;dbl&gt;</th><th scope=col>&lt;dbl&gt;</th><th scope=col>&lt;dbl&gt;</th><th scope=col>&lt;dbl&gt;</th><th scope=col>&lt;dbl&gt;</th><th scope=col>&lt;dbl&gt;</th></tr>\n",
       "</thead>\n",
       "<tbody>\n",
       "\t<tr><td>1st year</td><td>20</td><td>1287.50</td><td>193.734</td><td> 950</td><td>1150.00</td><td>1300.0</td><td>1400</td><td>1700</td></tr>\n",
       "\t<tr><td>2nd year</td><td>20</td><td>1246.25</td><td>142.412</td><td>1000</td><td>1143.75</td><td>1212.5</td><td>1350</td><td>1525</td></tr>\n",
       "\t<tr><td>3rd year</td><td>20</td><td>1636.25</td><td>227.902</td><td>1100</td><td>1543.75</td><td>1637.5</td><td>1800</td><td>1950</td></tr>\n",
       "</tbody>\n",
       "</table>\n"
      ],
      "text/latex": [
       "A data.frame: 3 × 9\n",
       "\\begin{tabular}{lllllllll}\n",
       " Year & n & mean & sd & min & Q1 & median & Q3 & max\\\\\n",
       " <chr> & <dbl> & <dbl> & <dbl> & <dbl> & <dbl> & <dbl> & <dbl> & <dbl>\\\\\n",
       "\\hline\n",
       "\t 1st year & 20 & 1287.50 & 193.734 &  950 & 1150.00 & 1300.0 & 1400 & 1700\\\\\n",
       "\t 2nd year & 20 & 1246.25 & 142.412 & 1000 & 1143.75 & 1212.5 & 1350 & 1525\\\\\n",
       "\t 3rd year & 20 & 1636.25 & 227.902 & 1100 & 1543.75 & 1637.5 & 1800 & 1950\\\\\n",
       "\\end{tabular}\n"
      ],
      "text/markdown": [
       "\n",
       "A data.frame: 3 × 9\n",
       "\n",
       "| Year &lt;chr&gt; | n &lt;dbl&gt; | mean &lt;dbl&gt; | sd &lt;dbl&gt; | min &lt;dbl&gt; | Q1 &lt;dbl&gt; | median &lt;dbl&gt; | Q3 &lt;dbl&gt; | max &lt;dbl&gt; |\n",
       "|---|---|---|---|---|---|---|---|---|\n",
       "| 1st year | 20 | 1287.50 | 193.734 |  950 | 1150.00 | 1300.0 | 1400 | 1700 |\n",
       "| 2nd year | 20 | 1246.25 | 142.412 | 1000 | 1143.75 | 1212.5 | 1350 | 1525 |\n",
       "| 3rd year | 20 | 1636.25 | 227.902 | 1100 | 1543.75 | 1637.5 | 1800 | 1950 |\n",
       "\n"
      ],
      "text/plain": [
       "  Year     n  mean    sd      min  Q1      median Q3   max \n",
       "1 1st year 20 1287.50 193.734  950 1150.00 1300.0 1400 1700\n",
       "2 2nd year 20 1246.25 142.412 1000 1143.75 1212.5 1350 1525\n",
       "3 3rd year 20 1636.25 227.902 1100 1543.75 1637.5 1800 1950"
      ]
     },
     "metadata": {},
     "output_type": "display_data"
    }
   ],
   "source": [
    "# Preanalysis of data\n",
    "\n",
    "# Descriptive statistics\n",
    "\n",
    "Summarize(Wrkday ~ Year, data = Data, digits = 3)"
   ]
  },
  {
   "cell_type": "code",
   "execution_count": 5,
   "id": "a6b9a501",
   "metadata": {},
   "outputs": [
    {
     "data": {
      "text/html": [
       "<table class=\"dataframe\">\n",
       "<caption>A psych: 1 × 13</caption>\n",
       "<thead>\n",
       "\t<tr><th></th><th scope=col>vars</th><th scope=col>n</th><th scope=col>mean</th><th scope=col>sd</th><th scope=col>median</th><th scope=col>trimmed</th><th scope=col>mad</th><th scope=col>min</th><th scope=col>max</th><th scope=col>range</th><th scope=col>skew</th><th scope=col>kurtosis</th><th scope=col>se</th></tr>\n",
       "\t<tr><th></th><th scope=col>&lt;dbl&gt;</th><th scope=col>&lt;dbl&gt;</th><th scope=col>&lt;dbl&gt;</th><th scope=col>&lt;dbl&gt;</th><th scope=col>&lt;dbl&gt;</th><th scope=col>&lt;dbl&gt;</th><th scope=col>&lt;dbl&gt;</th><th scope=col>&lt;dbl&gt;</th><th scope=col>&lt;dbl&gt;</th><th scope=col>&lt;dbl&gt;</th><th scope=col>&lt;dbl&gt;</th><th scope=col>&lt;dbl&gt;</th><th scope=col>&lt;dbl&gt;</th></tr>\n",
       "</thead>\n",
       "<tbody>\n",
       "\t<tr><th scope=row>X1</th><td>1</td><td>20</td><td>1287.5</td><td>193.7341</td><td>1300</td><td>1284.375</td><td>166.7925</td><td>950</td><td>1700</td><td>750</td><td>0.1186154</td><td>-0.4626583</td><td>43.32026</td></tr>\n",
       "</tbody>\n",
       "</table>\n"
      ],
      "text/latex": [
       "A psych: 1 × 13\n",
       "\\begin{tabular}{r|lllllllllllll}\n",
       "  & vars & n & mean & sd & median & trimmed & mad & min & max & range & skew & kurtosis & se\\\\\n",
       "  & <dbl> & <dbl> & <dbl> & <dbl> & <dbl> & <dbl> & <dbl> & <dbl> & <dbl> & <dbl> & <dbl> & <dbl> & <dbl>\\\\\n",
       "\\hline\n",
       "\tX1 & 1 & 20 & 1287.5 & 193.7341 & 1300 & 1284.375 & 166.7925 & 950 & 1700 & 750 & 0.1186154 & -0.4626583 & 43.32026\\\\\n",
       "\\end{tabular}\n"
      ],
      "text/markdown": [
       "\n",
       "A psych: 1 × 13\n",
       "\n",
       "| <!--/--> | vars &lt;dbl&gt; | n &lt;dbl&gt; | mean &lt;dbl&gt; | sd &lt;dbl&gt; | median &lt;dbl&gt; | trimmed &lt;dbl&gt; | mad &lt;dbl&gt; | min &lt;dbl&gt; | max &lt;dbl&gt; | range &lt;dbl&gt; | skew &lt;dbl&gt; | kurtosis &lt;dbl&gt; | se &lt;dbl&gt; |\n",
       "|---|---|---|---|---|---|---|---|---|---|---|---|---|---|\n",
       "| X1 | 1 | 20 | 1287.5 | 193.7341 | 1300 | 1284.375 | 166.7925 | 950 | 1700 | 750 | 0.1186154 | -0.4626583 | 43.32026 |\n",
       "\n"
      ],
      "text/plain": [
       "   vars n  mean   sd       median trimmed  mad      min max  range skew     \n",
       "X1 1    20 1287.5 193.7341 1300   1284.375 166.7925 950 1700 750   0.1186154\n",
       "   kurtosis   se      \n",
       "X1 -0.4626583 43.32026"
      ]
     },
     "metadata": {},
     "output_type": "display_data"
    },
    {
     "data": {
      "text/html": [
       "<table class=\"dataframe\">\n",
       "<caption>A psych: 1 × 13</caption>\n",
       "<thead>\n",
       "\t<tr><th></th><th scope=col>vars</th><th scope=col>n</th><th scope=col>mean</th><th scope=col>sd</th><th scope=col>median</th><th scope=col>trimmed</th><th scope=col>mad</th><th scope=col>min</th><th scope=col>max</th><th scope=col>range</th><th scope=col>skew</th><th scope=col>kurtosis</th><th scope=col>se</th></tr>\n",
       "\t<tr><th></th><th scope=col>&lt;dbl&gt;</th><th scope=col>&lt;dbl&gt;</th><th scope=col>&lt;dbl&gt;</th><th scope=col>&lt;dbl&gt;</th><th scope=col>&lt;dbl&gt;</th><th scope=col>&lt;dbl&gt;</th><th scope=col>&lt;dbl&gt;</th><th scope=col>&lt;dbl&gt;</th><th scope=col>&lt;dbl&gt;</th><th scope=col>&lt;dbl&gt;</th><th scope=col>&lt;dbl&gt;</th><th scope=col>&lt;dbl&gt;</th><th scope=col>&lt;dbl&gt;</th></tr>\n",
       "</thead>\n",
       "<tbody>\n",
       "\t<tr><th scope=row>X1</th><td>1</td><td>20</td><td>1246.25</td><td>142.4123</td><td>1212.5</td><td>1240.625</td><td>148.26</td><td>1000</td><td>1525</td><td>525</td><td>0.3030858</td><td>-0.8453012</td><td>31.84435</td></tr>\n",
       "</tbody>\n",
       "</table>\n"
      ],
      "text/latex": [
       "A psych: 1 × 13\n",
       "\\begin{tabular}{r|lllllllllllll}\n",
       "  & vars & n & mean & sd & median & trimmed & mad & min & max & range & skew & kurtosis & se\\\\\n",
       "  & <dbl> & <dbl> & <dbl> & <dbl> & <dbl> & <dbl> & <dbl> & <dbl> & <dbl> & <dbl> & <dbl> & <dbl> & <dbl>\\\\\n",
       "\\hline\n",
       "\tX1 & 1 & 20 & 1246.25 & 142.4123 & 1212.5 & 1240.625 & 148.26 & 1000 & 1525 & 525 & 0.3030858 & -0.8453012 & 31.84435\\\\\n",
       "\\end{tabular}\n"
      ],
      "text/markdown": [
       "\n",
       "A psych: 1 × 13\n",
       "\n",
       "| <!--/--> | vars &lt;dbl&gt; | n &lt;dbl&gt; | mean &lt;dbl&gt; | sd &lt;dbl&gt; | median &lt;dbl&gt; | trimmed &lt;dbl&gt; | mad &lt;dbl&gt; | min &lt;dbl&gt; | max &lt;dbl&gt; | range &lt;dbl&gt; | skew &lt;dbl&gt; | kurtosis &lt;dbl&gt; | se &lt;dbl&gt; |\n",
       "|---|---|---|---|---|---|---|---|---|---|---|---|---|---|\n",
       "| X1 | 1 | 20 | 1246.25 | 142.4123 | 1212.5 | 1240.625 | 148.26 | 1000 | 1525 | 525 | 0.3030858 | -0.8453012 | 31.84435 |\n",
       "\n"
      ],
      "text/plain": [
       "   vars n  mean    sd       median trimmed  mad    min  max  range skew     \n",
       "X1 1    20 1246.25 142.4123 1212.5 1240.625 148.26 1000 1525 525   0.3030858\n",
       "   kurtosis   se      \n",
       "X1 -0.8453012 31.84435"
      ]
     },
     "metadata": {},
     "output_type": "display_data"
    },
    {
     "data": {
      "text/html": [
       "<table class=\"dataframe\">\n",
       "<caption>A psych: 1 × 13</caption>\n",
       "<thead>\n",
       "\t<tr><th></th><th scope=col>vars</th><th scope=col>n</th><th scope=col>mean</th><th scope=col>sd</th><th scope=col>median</th><th scope=col>trimmed</th><th scope=col>mad</th><th scope=col>min</th><th scope=col>max</th><th scope=col>range</th><th scope=col>skew</th><th scope=col>kurtosis</th><th scope=col>se</th></tr>\n",
       "\t<tr><th></th><th scope=col>&lt;dbl&gt;</th><th scope=col>&lt;dbl&gt;</th><th scope=col>&lt;dbl&gt;</th><th scope=col>&lt;dbl&gt;</th><th scope=col>&lt;dbl&gt;</th><th scope=col>&lt;dbl&gt;</th><th scope=col>&lt;dbl&gt;</th><th scope=col>&lt;dbl&gt;</th><th scope=col>&lt;dbl&gt;</th><th scope=col>&lt;dbl&gt;</th><th scope=col>&lt;dbl&gt;</th><th scope=col>&lt;dbl&gt;</th><th scope=col>&lt;dbl&gt;</th></tr>\n",
       "</thead>\n",
       "<tbody>\n",
       "\t<tr><th scope=row>X1</th><td>1</td><td>20</td><td>1636.25</td><td>227.9016</td><td>1637.5</td><td>1657.812</td><td>203.8575</td><td>1100</td><td>1950</td><td>850</td><td>-0.6558086</td><td>-0.1692253</td><td>50.96035</td></tr>\n",
       "</tbody>\n",
       "</table>\n"
      ],
      "text/latex": [
       "A psych: 1 × 13\n",
       "\\begin{tabular}{r|lllllllllllll}\n",
       "  & vars & n & mean & sd & median & trimmed & mad & min & max & range & skew & kurtosis & se\\\\\n",
       "  & <dbl> & <dbl> & <dbl> & <dbl> & <dbl> & <dbl> & <dbl> & <dbl> & <dbl> & <dbl> & <dbl> & <dbl> & <dbl>\\\\\n",
       "\\hline\n",
       "\tX1 & 1 & 20 & 1636.25 & 227.9016 & 1637.5 & 1657.812 & 203.8575 & 1100 & 1950 & 850 & -0.6558086 & -0.1692253 & 50.96035\\\\\n",
       "\\end{tabular}\n"
      ],
      "text/markdown": [
       "\n",
       "A psych: 1 × 13\n",
       "\n",
       "| <!--/--> | vars &lt;dbl&gt; | n &lt;dbl&gt; | mean &lt;dbl&gt; | sd &lt;dbl&gt; | median &lt;dbl&gt; | trimmed &lt;dbl&gt; | mad &lt;dbl&gt; | min &lt;dbl&gt; | max &lt;dbl&gt; | range &lt;dbl&gt; | skew &lt;dbl&gt; | kurtosis &lt;dbl&gt; | se &lt;dbl&gt; |\n",
       "|---|---|---|---|---|---|---|---|---|---|---|---|---|---|\n",
       "| X1 | 1 | 20 | 1636.25 | 227.9016 | 1637.5 | 1657.812 | 203.8575 | 1100 | 1950 | 850 | -0.6558086 | -0.1692253 | 50.96035 |\n",
       "\n"
      ],
      "text/plain": [
       "   vars n  mean    sd       median trimmed  mad      min  max  range skew      \n",
       "X1 1    20 1636.25 227.9016 1637.5 1657.812 203.8575 1100 1950 850   -0.6558086\n",
       "   kurtosis   se      \n",
       "X1 -0.1692253 50.96035"
      ]
     },
     "metadata": {},
     "output_type": "display_data"
    }
   ],
   "source": [
    "# Skewness & Kurtosis?\n",
    "describe (Data[Data$Year == \"1st year\",\"Wrkday\"])\n",
    "describe (Data[Data$Year == \"2nd year\",\"Wrkday\"])\n",
    "describe (Data[Data$Year == \"3rd year\",\"Wrkday\"])"
   ]
  },
  {
   "cell_type": "code",
   "execution_count": 6,
   "id": "50f2538a",
   "metadata": {},
   "outputs": [
    {
     "data": {
      "image/png": "[encoded data removed]",
      "text/plain": [
       "plot without title"
      ]
     },
     "metadata": {
      "image/png": {
       "height": 420,
       "width": 420
      }
     },
     "output_type": "display_data"
    }
   ],
   "source": [
    "# Boxplot\n",
    "\n",
    "boxplot (Wrkday~Year, data = Data)"
   ]
  },
  {
   "cell_type": "code",
   "execution_count": 11,
   "id": "eec30f7c",
   "metadata": {},
   "outputs": [
    {
     "name": "stderr",
     "output_type": "stream",
     "text": [
      "Warning message:\n",
      "\"package 'DescTools' is in use and will not be installed\"\n"
     ]
    }
   ],
   "source": [
    "install.packages('DescTools', dependencies = TRUE)"
   ]
  },
  {
   "cell_type": "code",
   "execution_count": 13,
   "id": "844298ac",
   "metadata": {},
   "outputs": [],
   "source": [
    "library(DescTools)"
   ]
  },
  {
   "cell_type": "code",
   "execution_count": 14,
   "id": "dce63efb",
   "metadata": {
    "scrolled": true
   },
   "outputs": [
    {
     "name": "stderr",
     "output_type": "stream",
     "text": [
      "Installing package into 'C:/Users/Ankara/Documents/R/win-library/4.0'\n",
      "(as 'lib' is unspecified)\n",
      "\n",
      "Warning message:\n",
      "\"package 'rcompanion' is not available for this version of R\n",
      "\n",
      "A version of this package for your version of R might be available elsewhere,\n",
      "see the ideas at\n",
      "https://cran.r-project.org/doc/manuals/r-patched/R-admin.html#Installing-packages\"\n"
     ]
    },
    {
     "ename": "ERROR",
     "evalue": "Error in library(rcompanion): there is no package called 'rcompanion'\n",
     "output_type": "error",
     "traceback": [
      "Error in library(rcompanion): there is no package called 'rcompanion'\nTraceback:\n",
      "1. library(rcompanion)"
     ]
    }
   ],
   "source": [
    "install.packages(\"rcompanion\")\n",
    "library(rcompanion)"
   ]
  },
  {
   "cell_type": "code",
   "execution_count": 7,
   "id": "bb73588d",
   "metadata": {},
   "outputs": [
    {
     "ename": "ERROR",
     "evalue": "Error in groupwiseMean(Wrkday ~ Year, data = Data, conf = 0.95, digits = 3, : could not find function \"groupwiseMean\"\n",
     "output_type": "error",
     "traceback": [
      "Error in groupwiseMean(Wrkday ~ Year, data = Data, conf = 0.95, digits = 3, : could not find function \"groupwiseMean\"\nTraceback:\n"
     ]
    }
   ],
   "source": [
    "#Mean with CI\n",
    "      Sum <- groupwiseMean(Wrkday ~ Year, data   = Data, conf   = 0.95, digits = 3, traditional = FALSE, percentile  = TRUE)\n",
    "      # traditional=T - traditional confidence intervals for the group means, using the t-distribution\n",
    "      # percentile  = TRUE -  percentile confidence intervals for the group means by bootstrap\n",
    "      \n",
    "      #plot \n",
    "      ggplot(Sum, aes(x = Year, y = Mean)) +\n",
    "        geom_errorbar(aes(ymin = Percentile.lower, ymax = Percentile.upper), width = 0.05, size  = 0.5) +\n",
    "        geom_point(shape = 15, size  = 4) +\n",
    "        theme_bw() +\n",
    "        theme(axis.title   = element_text(face  = \"bold\")) +\n",
    "        ylab(\"Mean Wrkday, mg\")\n",
    "\n",
    "# due to r companion package, i can't have it"
   ]
  },
  {
   "cell_type": "code",
   "execution_count": 8,
   "id": "6ad5edd5",
   "metadata": {},
   "outputs": [
    {
     "data": {
      "text/plain": [
       "\n",
       "Call:\n",
       "lm(formula = Wrkday ~ Year, data = Data)\n",
       "\n",
       "Residuals:\n",
       "    Min      1Q  Median      3Q     Max \n",
       "-536.25 -113.75    3.75  112.81  412.50 \n",
       "\n",
       "Coefficients:\n",
       "             Estimate Std. Error t value             Pr(>|t|)    \n",
       "(Intercept)   1287.50      42.77  30.103 < 0.0000000000000002 ***\n",
       "Year2nd year   -41.25      60.49  -0.682                0.498    \n",
       "Year3rd year   348.75      60.49   5.766          0.000000347 ***\n",
       "---\n",
       "Signif. codes:  0 '***' 0.001 '**' 0.01 '*' 0.05 '.' 0.1 ' ' 1\n",
       "\n",
       "Residual standard error: 191.3 on 57 degrees of freedom\n",
       "Multiple R-squared:  0.4682,\tAdjusted R-squared:  0.4496 \n",
       "F-statistic:  25.1 on 2 and 57 DF,  p-value: 0.00000001524\n"
      ]
     },
     "metadata": {},
     "output_type": "display_data"
    }
   ],
   "source": [
    "#### ONE-WAY ANOVA analysis\n",
    "# Estimating a linear model\n",
    "\n",
    "model <- lm(Wrkday~Year, data = Data)\n",
    "\n",
    "summary(model)\n",
    "\n",
    "# F test for all betas=0\n",
    "# Rejecting H0 indicates that there is significant difference betwee averages"
   ]
  },
  {
   "cell_type": "code",
   "execution_count": 21,
   "id": "bed2cbb1",
   "metadata": {},
   "outputs": [
    {
     "data": {
      "text/html": [
       "<table class=\"dataframe\">\n",
       "<caption>A anova: 2 × 4</caption>\n",
       "<thead>\n",
       "\t<tr><th></th><th scope=col>Sum Sq</th><th scope=col>Df</th><th scope=col>F value</th><th scope=col>Pr(&gt;F)</th></tr>\n",
       "\t<tr><th></th><th scope=col>&lt;dbl&gt;</th><th scope=col>&lt;dbl&gt;</th><th scope=col>&lt;dbl&gt;</th><th scope=col>&lt;dbl&gt;</th></tr>\n",
       "</thead>\n",
       "<tbody>\n",
       "\t<tr><th scope=row>Year</th><td>1836188</td><td> 2</td><td>25.0952</td><td>0.00000001524016</td></tr>\n",
       "\t<tr><th scope=row>Residuals</th><td>2085313</td><td>57</td><td>     NA</td><td>              NA</td></tr>\n",
       "</tbody>\n",
       "</table>\n"
      ],
      "text/latex": [
       "A anova: 2 × 4\n",
       "\\begin{tabular}{r|llll}\n",
       "  & Sum Sq & Df & F value & Pr(>F)\\\\\n",
       "  & <dbl> & <dbl> & <dbl> & <dbl>\\\\\n",
       "\\hline\n",
       "\tYear & 1836188 &  2 & 25.0952 & 0.00000001524016\\\\\n",
       "\tResiduals & 2085313 & 57 &      NA &               NA\\\\\n",
       "\\end{tabular}\n"
      ],
      "text/markdown": [
       "\n",
       "A anova: 2 × 4\n",
       "\n",
       "| <!--/--> | Sum Sq &lt;dbl&gt; | Df &lt;dbl&gt; | F value &lt;dbl&gt; | Pr(&gt;F) &lt;dbl&gt; |\n",
       "|---|---|---|---|---|\n",
       "| Year | 1836188 |  2 | 25.0952 | 0.00000001524016 |\n",
       "| Residuals | 2085313 | 57 |      NA |               NA |\n",
       "\n"
      ],
      "text/plain": [
       "          Sum Sq  Df F value Pr(>F)          \n",
       "Year      1836188  2 25.0952 0.00000001524016\n",
       "Residuals 2085313 57      NA               NA"
      ]
     },
     "metadata": {},
     "output_type": "display_data"
    }
   ],
   "source": [
    "#ANOVA analysis results\n",
    "Anova(model)   \n",
    "### In this case F test from summary is the same F test as for Anova\n",
    "# Because we have only one indepent variables --> all betas for different Years levels\n",
    "# Conclusions? There is difference in means? In which particurarlly? Whe don't know."
   ]
  },
  {
   "cell_type": "code",
   "execution_count": 27,
   "id": "401fdfb8",
   "metadata": {},
   "outputs": [
    {
     "data": {
      "text/html": [
       "<table class=\"dataframe\">\n",
       "<caption>A psych: 1 × 13</caption>\n",
       "<thead>\n",
       "\t<tr><th></th><th scope=col>vars</th><th scope=col>n</th><th scope=col>mean</th><th scope=col>sd</th><th scope=col>median</th><th scope=col>trimmed</th><th scope=col>mad</th><th scope=col>min</th><th scope=col>max</th><th scope=col>range</th><th scope=col>skew</th><th scope=col>kurtosis</th><th scope=col>se</th></tr>\n",
       "\t<tr><th></th><th scope=col>&lt;dbl&gt;</th><th scope=col>&lt;dbl&gt;</th><th scope=col>&lt;dbl&gt;</th><th scope=col>&lt;dbl&gt;</th><th scope=col>&lt;dbl&gt;</th><th scope=col>&lt;dbl&gt;</th><th scope=col>&lt;dbl&gt;</th><th scope=col>&lt;dbl&gt;</th><th scope=col>&lt;dbl&gt;</th><th scope=col>&lt;dbl&gt;</th><th scope=col>&lt;dbl&gt;</th><th scope=col>&lt;dbl&gt;</th><th scope=col>&lt;dbl&gt;</th></tr>\n",
       "</thead>\n",
       "<tbody>\n",
       "\t<tr><th scope=row>X1</th><td>1</td><td>60</td><td>-0.000000000000005182371</td><td>188.0007</td><td>3.75</td><td>4.401042</td><td>166.7925</td><td>-536.25</td><td>412.5</td><td>948.75</td><td>-0.3022393</td><td>0.2279389</td><td>24.27079</td></tr>\n",
       "</tbody>\n",
       "</table>\n"
      ],
      "text/latex": [
       "A psych: 1 × 13\n",
       "\\begin{tabular}{r|lllllllllllll}\n",
       "  & vars & n & mean & sd & median & trimmed & mad & min & max & range & skew & kurtosis & se\\\\\n",
       "  & <dbl> & <dbl> & <dbl> & <dbl> & <dbl> & <dbl> & <dbl> & <dbl> & <dbl> & <dbl> & <dbl> & <dbl> & <dbl>\\\\\n",
       "\\hline\n",
       "\tX1 & 1 & 60 & -0.000000000000005182371 & 188.0007 & 3.75 & 4.401042 & 166.7925 & -536.25 & 412.5 & 948.75 & -0.3022393 & 0.2279389 & 24.27079\\\\\n",
       "\\end{tabular}\n"
      ],
      "text/markdown": [
       "\n",
       "A psych: 1 × 13\n",
       "\n",
       "| <!--/--> | vars &lt;dbl&gt; | n &lt;dbl&gt; | mean &lt;dbl&gt; | sd &lt;dbl&gt; | median &lt;dbl&gt; | trimmed &lt;dbl&gt; | mad &lt;dbl&gt; | min &lt;dbl&gt; | max &lt;dbl&gt; | range &lt;dbl&gt; | skew &lt;dbl&gt; | kurtosis &lt;dbl&gt; | se &lt;dbl&gt; |\n",
       "|---|---|---|---|---|---|---|---|---|---|---|---|---|---|\n",
       "| X1 | 1 | 60 | -0.000000000000005182371 | 188.0007 | 3.75 | 4.401042 | 166.7925 | -536.25 | 412.5 | 948.75 | -0.3022393 | 0.2279389 | 24.27079 |\n",
       "\n"
      ],
      "text/plain": [
       "   vars n  mean                     sd       median trimmed  mad      min    \n",
       "X1 1    60 -0.000000000000005182371 188.0007 3.75   4.401042 166.7925 -536.25\n",
       "   max   range  skew       kurtosis  se      \n",
       "X1 412.5 948.75 -0.3022393 0.2279389 24.27079"
      ]
     },
     "metadata": {},
     "output_type": "display_data"
    }
   ],
   "source": [
    "#Diagnostics\n",
    "#are residuals normal?\n",
    "\n",
    "res <- residuals(model)\n",
    "describe(res)"
   ]
  },
  {
   "cell_type": "code",
   "execution_count": 43,
   "id": "2ebd4518",
   "metadata": {
    "scrolled": false
   },
   "outputs": [
    {
     "data": {
      "image/png": "[encoded data removed]",
      "text/plain": [
       "Plot with title \"\""
      ]
     },
     "metadata": {
      "image/png": {
       "height": 420,
       "width": 420
      }
     },
     "output_type": "display_data"
    }
   ],
   "source": [
    "hist(res)\n",
    "par(new = T)\n",
    "plot(density(rnorm(60000,0,188)), xlab=\"\", ylab=\"\", main = \"\", yaxt =\"n\", xaxt =\"n\")"
   ]
  },
  {
   "cell_type": "code",
   "execution_count": 44,
   "id": "895d25ac",
   "metadata": {},
   "outputs": [
    {
     "data": {
      "text/plain": [
       "\n",
       "\tShapiro-Wilk normality test\n",
       "\n",
       "data:  res\n",
       "W = 0.98434, p-value = 0.6358\n"
      ]
     },
     "metadata": {},
     "output_type": "display_data"
    }
   ],
   "source": [
    "shapiro.test(res)"
   ]
  },
  {
   "cell_type": "code",
   "execution_count": 45,
   "id": "59a30db4",
   "metadata": {},
   "outputs": [
    {
     "data": {
      "text/plain": [
       "\n",
       "\tBartlett test of homogeneity of variances\n",
       "\n",
       "data:  Wrkday by Year\n",
       "Bartlett's K-squared = 3.9709, df = 2, p-value = 0.1373\n"
      ]
     },
     "metadata": {},
     "output_type": "display_data"
    }
   ],
   "source": [
    "#are variances equal to each other?\n",
    "# equality of variance tests for more then 2 samples\n",
    "# H0:all samples have the same variance\n",
    "# H1:variance is not the same for all samples\n",
    "bartlett.test(Wrkday ~ Year, data = Data) #assuming normality"
   ]
  },
  {
   "cell_type": "code",
   "execution_count": 46,
   "id": "8ea77283",
   "metadata": {},
   "outputs": [
    {
     "name": "stderr",
     "output_type": "stream",
     "text": [
      "Warning message in leveneTest.default(y = y, group = group, ...):\n",
      "\"group coerced to factor.\"\n"
     ]
    },
    {
     "data": {
      "text/html": [
       "<table class=\"dataframe\">\n",
       "<caption>A anova: 2 × 3</caption>\n",
       "<thead>\n",
       "\t<tr><th></th><th scope=col>Df</th><th scope=col>F value</th><th scope=col>Pr(&gt;F)</th></tr>\n",
       "\t<tr><th></th><th scope=col>&lt;int&gt;</th><th scope=col>&lt;dbl&gt;</th><th scope=col>&lt;dbl&gt;</th></tr>\n",
       "</thead>\n",
       "<tbody>\n",
       "\t<tr><th scope=row>group</th><td> 2</td><td>1.178553</td><td>0.3151089</td></tr>\n",
       "\t<tr><th scope=row> </th><td>57</td><td>      NA</td><td>       NA</td></tr>\n",
       "</tbody>\n",
       "</table>\n"
      ],
      "text/latex": [
       "A anova: 2 × 3\n",
       "\\begin{tabular}{r|lll}\n",
       "  & Df & F value & Pr(>F)\\\\\n",
       "  & <int> & <dbl> & <dbl>\\\\\n",
       "\\hline\n",
       "\tgroup &  2 & 1.178553 & 0.3151089\\\\\n",
       "\t  & 57 &       NA &        NA\\\\\n",
       "\\end{tabular}\n"
      ],
      "text/markdown": [
       "\n",
       "A anova: 2 × 3\n",
       "\n",
       "| <!--/--> | Df &lt;int&gt; | F value &lt;dbl&gt; | Pr(&gt;F) &lt;dbl&gt; |\n",
       "|---|---|---|---|\n",
       "| group |  2 | 1.178553 | 0.3151089 |\n",
       "| <!----> | 57 |       NA |        NA |\n",
       "\n"
      ],
      "text/plain": [
       "      Df F value  Pr(>F)   \n",
       "group  2 1.178553 0.3151089\n",
       "      57       NA        NA"
      ]
     },
     "metadata": {},
     "output_type": "display_data"
    },
    {
     "data": {
      "text/plain": [
       "\n",
       "\tFligner-Killeen test of homogeneity of variances\n",
       "\n",
       "data:  Wrkday by Year\n",
       "Fligner-Killeen:med chi-squared = 2.1912, df = 2, p-value = 0.3343\n"
      ]
     },
     "metadata": {},
     "output_type": "display_data"
    }
   ],
   "source": [
    "# bartlett.test(len ~ interaction(supp,dose), data=ToothGrowth)\n",
    "leveneTest(Wrkday ~ Year, data = Data)\n",
    "fligner.test(Wrkday ~ Year, data = Data)"
   ]
  }
 ],
 "metadata": {
  "kernelspec": {
   "display_name": "R",
   "language": "R",
   "name": "ir"
  },
  "language_info": {
   "codemirror_mode": "r",
   "file_extension": ".r",
   "mimetype": "text/x-r-source",
   "name": "R",
   "pygments_lexer": "r",
   "version": "4.0.3"
  }
 },
 "nbformat": 4,
 "nbformat_minor": 5
}
